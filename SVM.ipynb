{
 "cells": [
  {
   "cell_type": "code",
   "execution_count": 1,
   "metadata": {
    "collapsed": true
   },
   "outputs": [],
   "source": [
    "import csv\n",
    "import numpy as np\n",
    "from matplotlib import pyplot as plt\n",
    "from sklearn import linear_model, svm\n",
    "import math\n",
    "import random\n",
    "import scipy\n"
   ]
  },
  {
   "cell_type": "code",
   "execution_count": 2,
   "metadata": {
    "collapsed": true
   },
   "outputs": [],
   "source": [
    "\n",
    "def loadData(fileName):\n",
    "    '''\n",
    "    Takes filename string and returns raw data as numpy array\n",
    "    '''\n",
    "    with open(fileName, 'r') as dest_f:\n",
    "        data_iter = csv.reader(dest_f, delimiter = ',', quotechar = '\"')\n",
    "        data = [data for data in data_iter]\n",
    "    rawData = np.asarray(data[1:], dtype = float)    # removes the first row of headers\n",
    "    columnsToDelete = returnColumnsToDelete(rawData)\n",
    "    processedData = deleteColumns(columnsToDelete, rawData)\n",
    "    return processedData"
   ]
  },
  {
   "cell_type": "code",
   "execution_count": 3,
   "metadata": {
    "collapsed": true
   },
   "outputs": [],
   "source": [
    "def returnTrainingAndValidation(arr, percentageValidation):\n",
    "    '''\n",
    "    Splits all input data into a trainnig arr and validation arr according to\n",
    "    percentage specified\n",
    "    '''\n",
    "    threshold = int(percentageValidation * len(arr))\n",
    "    validation = arr[:threshold]\n",
    "    training = arr[threshold:]\n",
    "    return training, validation"
   ]
  },
  {
   "cell_type": "code",
   "execution_count": 4,
   "metadata": {
    "collapsed": true
   },
   "outputs": [],
   "source": [
    "def deleteColumns(columns, arr):\n",
    "    '''\n",
    "    Deletes particular columns in arrays \n",
    "    '''\n",
    "    arr1 = scipy.delete(arr, columns, 1)\n",
    "    return arr1"
   ]
  },
  {
   "cell_type": "code",
   "execution_count": 5,
   "metadata": {
    "collapsed": true
   },
   "outputs": [],
   "source": [
    "def returnColumnsToDelete(arr):\n",
    "    columnsToDelete = [0]   #We want to delete column 0, or ID column to begin with\n",
    "    for i in range(arr.shape[1]):\n",
    "        currentCol = arr[:,i]\n",
    "        if isDrop(currentCol):\n",
    "            columnsToDelete.append(i)\n",
    "    return columnsToDelete\n",
    "        "
   ]
  },
  {
   "cell_type": "code",
   "execution_count": 6,
   "metadata": {
    "collapsed": true
   },
   "outputs": [],
   "source": [
    "def isDrop(arr):\n",
    "    '''\n",
    "    Determines which columns/ features to drop. If all column values are the\n",
    "    same or most column values (>= 90% are <=0), then we drop\n",
    "    '''\n",
    "    isSame = 0\n",
    "    numZeroOrLess = 0\n",
    "    for i in arr:\n",
    "        if i <= 0:\n",
    "            numZeroOrLess += 1\n",
    "        if i == arr[0]:\n",
    "            isSame += 1\n",
    "    if (isSame >= 0.9 * len(arr) or numZeroOrLess >= 0.9 * len(arr)):\n",
    "        return True\n",
    "    return False"
   ]
  },
  {
   "cell_type": "code",
   "execution_count": 7,
   "metadata": {
    "collapsed": true
   },
   "outputs": [],
   "source": [
    "def getInputsAndOutputs(arr):\n",
    "    '''\n",
    "    This function takes the raw data and returns two arrays for inputs(x) \n",
    "    and outputs(y) without x_0 being 1\n",
    "    '''    \n",
    "    inputs = []\n",
    "    outputs = []\n",
    "\n",
    "    for i in arr:\n",
    "        inputs.append(i[:-1])   # the x vector\n",
    "        outputs.append(i[(len(i) - 1)])      # last element, y\n",
    "    return np.asarray(inputs), np.asarray(outputs)"
   ]
  },
  {
   "cell_type": "code",
   "execution_count": 8,
   "metadata": {
    "collapsed": true
   },
   "outputs": [],
   "source": [
    "def runSVM(inputs, outputs):\n",
    "    '''\n",
    "    This function takes in inputs and outputs of a dataset and returns\n",
    "    the decision boundary of classifier, and predicted values as array. \n",
    "    \n",
    "    '''\n",
    "    clf = svm.SVC(decision_function_shape='ovo')\n",
    "    clf.fit(inputs, outputs)\n",
    "    return clf"
   ]
  },
  {
   "cell_type": "code",
   "execution_count": 13,
   "metadata": {
    "collapsed": false
   },
   "outputs": [
    {
     "data": {
      "text/plain": [
       "array([[   1.,  201.,    1., ...,    1.,    2.,    1.],\n",
       "       [   1.,  201.,    2., ...,    1.,    2.,    1.],\n",
       "       [   1.,    1.,    1., ...,    1.,    2.,    1.],\n",
       "       ..., \n",
       "       [   1.,    1.,    1., ...,    1.,    2.,    1.],\n",
       "       [   1.,  201.,    3., ...,    1.,    2.,    1.],\n",
       "       [   1.,  201.,    1., ...,    1.,    2.,    1.]])"
      ]
     },
     "execution_count": 13,
     "metadata": {},
     "output_type": "execute_result"
    }
   ],
   "source": [
    "allData = loadData(\"train_2008.csv\")\n",
    "allData"
   ]
  },
  {
   "cell_type": "code",
   "execution_count": 14,
   "metadata": {
    "collapsed": true
   },
   "outputs": [],
   "source": [
    "training, validation = returnTrainingAndValidation(allData, 0.2)"
   ]
  },
  {
   "cell_type": "code",
   "execution_count": 15,
   "metadata": {
    "collapsed": true
   },
   "outputs": [],
   "source": [
    "trainingInputs, trainingOutputs = getInputsAndOutputs(training)"
   ]
  },
  {
   "cell_type": "code",
   "execution_count": 16,
   "metadata": {
    "collapsed": true
   },
   "outputs": [],
   "source": [
    "validationInputs, validationOutputs = getInputsAndOutputs(validation)"
   ]
  },
  {
   "cell_type": "code",
   "execution_count": null,
   "metadata": {
    "collapsed": true
   },
   "outputs": [],
   "source": [
    "clf = runSVM(trainingInputs, trainingOutputs)"
   ]
  },
  {
   "cell_type": "code",
   "execution_count": null,
   "metadata": {
    "collapsed": true
   },
   "outputs": [],
   "source": []
  }
 ],
 "metadata": {
  "anaconda-cloud": {},
  "kernelspec": {
   "display_name": "Python [Root]",
   "language": "python",
   "name": "Python [Root]"
  },
  "language_info": {
   "codemirror_mode": {
    "name": "ipython",
    "version": 3
   },
   "file_extension": ".py",
   "mimetype": "text/x-python",
   "name": "python",
   "nbconvert_exporter": "python",
   "pygments_lexer": "ipython3",
   "version": "3.5.2"
  }
 },
 "nbformat": 4,
 "nbformat_minor": 0
}
